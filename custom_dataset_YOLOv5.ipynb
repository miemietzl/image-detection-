{
  "cells": [
    {
      "cell_type": "code",
      "execution_count": null,
      "metadata": {
        "id": "GYP6jiTwAlAR"
      },
      "outputs": [],
      "source": [
        "#clone YOLOv5 and \n",
        "\n",
        "\n",
        "!git clone https://github.com/ultralytics/yolov5  # clone repo\n",
        "%cd yolov5\n",
        "%pip install -qr requirements.txt # install dependencies\n",
        "%pip install -q roboflow\n",
        "\n",
        "import torch\n",
        "import os\n",
        "from IPython.display import Image, clear_output  # to display images\n",
        "#from utils.google_utils import gdrive_downloads"
      ]
    },
    {
      "cell_type": "code",
      "execution_count": null,
      "metadata": {
        "id": "P89cJx8IGEfb"
      },
      "outputs": [],
      "source": [
        "import utils\n",
        "display = utils.notebook_init()  # checks"
      ]
    },
    {
      "cell_type": "code",
      "execution_count": null,
      "metadata": {
        "id": "-9nTZRm3Anba"
      },
      "outputs": [],
      "source": [
        "from roboflow import Roboflow\n",
        "\n",
        "#rf = Roboflow(api_key=\"9uTbfuJArYNzYDFvgoJZ\")\n",
        "#project = rf.workspace(\"training-fkihw\").project(\"fluchtplan\")\n",
        "#dataset = project.version(1).download(\"yolov5\")\n",
        "\n",
        "rf = Roboflow(api_key=\"9uTbfuJArYNzYDFvgoJZ\")\n",
        "project = rf.workspace(\"training-fkihw\").project(\"fluchtplan\")\n",
        "dataset = project.version(3).download(\"yolov5\")"
      ]
    },
    {
      "cell_type": "code",
      "execution_count": null,
      "metadata": {
        "id": "ZVBK4C-8A1N9"
      },
      "outputs": [],
      "source": [
        "# set up environment\n",
        "os.environ[\"DATASET_DIRECTORY\"] = \"/content/datasets\""
      ]
    },
    {
      "cell_type": "code",
      "execution_count": null,
      "metadata": {
        "id": "nUEFrubIrXXp"
      },
      "outputs": [],
      "source": [
        "#!zip -r '/content/runs.zip' '/content/yolov5/runs'"
      ]
    },
    {
      "cell_type": "code",
      "execution_count": null,
      "metadata": {
        "id": "11g9x8E4sLQf"
      },
      "outputs": [],
      "source": [
        "!rm -rf /content/yolov5/runs"
      ]
    },
    {
      "cell_type": "code",
      "execution_count": null,
      "metadata": {
        "colab": {
          "background_save": true
        },
        "id": "mcnBysp7A4dP"
      },
      "outputs": [],
      "source": [
        "!python train.py --img 640 --batch 32 --epochs 500 --data {dataset.location}/data.yaml --weights yolov5m.pt --cache"
      ]
    },
    {
      "cell_type": "code",
      "execution_count": null,
      "metadata": {
        "id": "ULO6M6h0f2KW"
      },
      "outputs": [],
      "source": [
        "#!python detect.py --weights runs/train/exp/weights/best.pt --img 416 --conf 0.1 --source {dataset.location}/test/images"
      ]
    },
    {
      "cell_type": "code",
      "execution_count": null,
      "metadata": {
        "id": "pS-6OtNggWCq"
      },
      "outputs": [],
      "source": [
        "#zip and download\n",
        "!zip -r '/content/runs.zip' '/content/yolov5/runs'\n",
        "#from google.colab import files\n",
        "#files.download('/content/runs.zip')"
      ]
    },
    {
      "cell_type": "code",
      "execution_count": null,
      "metadata": {
        "id": "fQXZhr9vELP2"
      },
      "outputs": [],
      "source": [
        "from google.colab import drive\n",
        "drive.mount('/content/gdrive',force_remount=True)\n",
        "%cp /content/yolov5/weights/last_yolov5s_results.pt /content/gdrive/My\\ Drive"
      ]
    }
  ],
  "metadata": {
    "accelerator": "GPU",
    "colab": {
      "collapsed_sections": [],
      "machine_shape": "hm",
      "provenance": []
    },
    "gpuClass": "standard",
    "kernelspec": {
      "display_name": "Python 3",
      "name": "python3"
    },
    "language_info": {
      "name": "python"
    }
  },
  "nbformat": 4,
  "nbformat_minor": 0
}